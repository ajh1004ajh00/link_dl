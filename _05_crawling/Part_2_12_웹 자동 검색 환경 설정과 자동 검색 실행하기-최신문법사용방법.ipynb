{
 "cells": [
  {
   "cell_type": "code",
   "execution_count": null,
   "metadata": {
    "scrolled": false
   },
   "outputs": [
    {
     "name": "stdout",
     "output_type": "stream",
     "text": [
      "====================================================================================================\n",
      " 이 크롤러는 riss 사이트의 논문 자료 수집용 웹크롤러입니다.\n",
      "====================================================================================================\n",
      "\n",
      "\n"
     ]
    }
   ],
   "source": [
    "#Chap 12. riss.kr 사이트에서 특정 키워드로 자동 검색하기\n",
    "#ctrl + shift + c : 크롬 개발자 도구 열기 바로 확인 가능\n",
    "#다른 방법으론 액션체인이라는 방법이 있음음\n",
    "\n",
    "#세레니움은 html 코드만 누를 수 있음,. 공인 인증서, 쿠키같은게 html이 아닐수도 있음\n",
    "#그러면 방법이 2가지 정도가 있을 수 있다.\n",
    "#opencv를 사용해서 똑같은 버튼을 눌러라.\n",
    "#pytogui를 통해 자동으로 핸들링하게 만듬듬\n",
    "\n",
    "#Step 1. 필요한 모듈을 로딩합니다\n",
    "from selenium import webdriver\n",
    "from selenium.webdriver.common.by import By\n",
    "from selenium.webdriver.common.keys import Keys\n",
    "from selenium.webdriver.chrome.service import Service\n",
    "import time          \n",
    "\n",
    "#Step 2. 사용자에게 검색 관련 정보들을 입력 받습니다.\n",
    "print(\"=\" *100)\n",
    "print(\" 이 크롤러는 riss 사이트의 논문 자료 수집용 웹크롤러입니다.\")\n",
    "print(\"=\" *100)\n",
    "query_txt = input('1.수집할 자료의 키워드는 무엇입니까?(예: 해양자원): ')\n",
    "print(\"\\n\")\n",
    "\n",
    "#Step 3. 크롬 드라이버 설정 및 웹 페이지 열기\n",
    "# 크롬 드라이버 설정하는 최신 문법\n",
    "s = Service(\"c:/py_temp/chromedriver.exe\")\n",
    "driver = webdriver.Chrome(service=s)\n",
    "\n",
    "url = 'https://www.riss.kr/' #연구정보 서비스 사이트\n",
    "driver.get(url) #get 방식으로 해당 페이지를 불러옴\n",
    "time.sleep(5) #인터넷 속도가 느려서 홈페이지가 아직 불러오기 전일수도 있음. 그래서 5초 기다림\n",
    "driver.maximize_window() # 화면이 작으면 메뉴창 같은게 잘릴수도 있음\n",
    "\n",
    "#Step 4. 자동으로 검색어 입력 후 조회하기\n",
    "#element(component)는 검색창, 메뉴창 등 임. 각 element는 고유한 정보를 가지고 있음.\n",
    "#element 정보는 크롬 개발자 도구에서 확인 가능함. id, name, xpath를 통해 확인 가능함.\n",
    "element = driver.find_element(By.ID,'query') #id를 통해서 찾아라\n",
    "driver.find_element(By.ID,'query').click( ) #검색창에 커서를 두기 위해 클릭\n",
    "element.send_keys(query_txt)\n",
    "element.send_keys(\"\\n\") #엔터"
   ]
  },
  {
   "cell_type": "markdown",
   "metadata": {},
   "source": [
    "### 1번"
   ]
  },
  {
   "cell_type": "code",
   "execution_count": null,
   "metadata": {},
   "outputs": [],
   "source": [
    "driver = webdriver.Chrome(service=s)\n",
    "\n",
    "url = 'https://naver.com'\n",
    "driver.get(url)\n",
    "time.sleep(5)\n",
    "#driver.maximize_window()\n",
    "\n",
    "element = driver.find_element(By.ID,'query')\n",
    "driver.find_element(By.ID,'query').click( )\n",
    "element.send_keys('서진수 빅데이터')\n",
    "element.send_keys(\"\\n\")"
   ]
  },
  {
   "cell_type": "markdown",
   "metadata": {},
   "source": [
    "### 2번"
   ]
  },
  {
   "cell_type": "code",
   "execution_count": 6,
   "metadata": {},
   "outputs": [],
   "source": [
    "driver = webdriver.Chrome(service=s)\n",
    "\n",
    "url = 'https://daum.net'\n",
    "driver.get(url)\n",
    "time.sleep(5)\n",
    "#driver.maximize_window()\n",
    "\n",
    "element = driver.find_element(By.ID,'q')\n",
    "driver.find_element(By.ID,'q').click( )\n",
    "element.send_keys('서진수 빅데이터')\n",
    "element.send_keys(\"\\n\")"
   ]
  },
  {
   "cell_type": "markdown",
   "metadata": {},
   "source": [
    "### 3번번"
   ]
  },
  {
   "cell_type": "code",
   "execution_count": 7,
   "metadata": {},
   "outputs": [],
   "source": [
    "driver = webdriver.Chrome(service=s)\n",
    "\n",
    "url = 'https://google.com'\n",
    "driver.get(url)\n",
    "time.sleep(5)\n",
    "#driver.maximize_window()\n",
    "\n",
    "element = driver.find_element(By.NAME,'q')\n",
    "driver.find_element(By.NAME,'q').click( )\n",
    "element.send_keys('서진수 빅데이터')\n",
    "element.send_keys(\"\\n\")"
   ]
  },
  {
   "cell_type": "markdown",
   "metadata": {},
   "source": [
    "### 4번"
   ]
  },
  {
   "cell_type": "code",
   "execution_count": 42,
   "metadata": {},
   "outputs": [
    {
     "ename": "NoSuchElementException",
     "evalue": "Message: no such element: Unable to locate element: {\"method\":\"xpath\",\"selector\":\"//*[@id=\"headerSearchKeInput\"]\"}\n  (Session info: chrome=133.0.6943.60); For documentation on this error, please visit: https://www.selenium.dev/documentation/webdriver/troubleshooting/errors#no-such-element-exception\nStacktrace:\n\tGetHandleVerifier [0x00007FF676272EC5+28789]\n\t(No symbol) [0x00007FF6761DF870]\n\t(No symbol) [0x00007FF676078F9A]\n\t(No symbol) [0x00007FF6760CF236]\n\t(No symbol) [0x00007FF6760CF46C]\n\t(No symbol) [0x00007FF6761229F7]\n\t(No symbol) [0x00007FF6760F725F]\n\t(No symbol) [0x00007FF67611F6C3]\n\t(No symbol) [0x00007FF6760F6FF3]\n\t(No symbol) [0x00007FF6760BFF0E]\n\t(No symbol) [0x00007FF6760C1193]\n\tGetHandleVerifier [0x00007FF6765BD5FD+3479469]\n\tGetHandleVerifier [0x00007FF6765D71A3+3584851]\n\tGetHandleVerifier [0x00007FF6765CC44D+3540477]\n\tGetHandleVerifier [0x00007FF676338B6A+838938]\n\t(No symbol) [0x00007FF6761EA4EF]\n\t(No symbol) [0x00007FF6761E6954]\n\t(No symbol) [0x00007FF6761E6AF6]\n\t(No symbol) [0x00007FF6761D6499]\n\tBaseThreadInitThunk [0x00007FFD0147E8D7+23]\n\tRtlUserThreadStart [0x00007FFD0345FBCC+44]\n",
     "output_type": "error",
     "traceback": [
      "\u001b[1;31m---------------------------------------------------------------------------\u001b[0m",
      "\u001b[1;31mNoSuchElementException\u001b[0m                    Traceback (most recent call last)",
      "Cell \u001b[1;32mIn[42], line 11\u001b[0m\n\u001b[0;32m      8\u001b[0m \u001b[38;5;66;03m#element = driver.find_element(By.XPATH,'//*[@id=\"modal2\"]/kc-icon')\u001b[39;00m\n\u001b[0;32m      9\u001b[0m driver\u001b[38;5;241m.\u001b[39mfind_element(By\u001b[38;5;241m.\u001b[39mXPATH,\u001b[38;5;124m'\u001b[39m\u001b[38;5;124m//*[@id=\u001b[39m\u001b[38;5;124m\"\u001b[39m\u001b[38;5;124mplaceHolder\u001b[39m\u001b[38;5;124m\"\u001b[39m\u001b[38;5;124m]/a\u001b[39m\u001b[38;5;124m'\u001b[39m)\u001b[38;5;241m.\u001b[39mclick( )\n\u001b[1;32m---> 11\u001b[0m element \u001b[38;5;241m=\u001b[39m driver\u001b[38;5;241m.\u001b[39mfind_element(By\u001b[38;5;241m.\u001b[39mXPATH, \u001b[38;5;124m'\u001b[39m\u001b[38;5;124m//*[@id=\u001b[39m\u001b[38;5;124m\"\u001b[39m\u001b[38;5;124mheaderSearchKeInput\u001b[39m\u001b[38;5;124m\"\u001b[39m\u001b[38;5;124m]\u001b[39m\u001b[38;5;124m'\u001b[39m)\n\u001b[0;32m     12\u001b[0m driver\u001b[38;5;241m.\u001b[39mfind_element(By\u001b[38;5;241m.\u001b[39mXPATH,\u001b[38;5;124m'\u001b[39m\u001b[38;5;124m//*[@id=\u001b[39m\u001b[38;5;124m\"\u001b[39m\u001b[38;5;124mheaderSearchKeInput\u001b[39m\u001b[38;5;124m\"\u001b[39m\u001b[38;5;124m]\u001b[39m\u001b[38;5;124m'\u001b[39m)\u001b[38;5;241m.\u001b[39mclick( )\n\u001b[0;32m     14\u001b[0m element\u001b[38;5;241m.\u001b[39msend_keys(\u001b[38;5;124m'\u001b[39m\u001b[38;5;124m제주도도\u001b[39m\u001b[38;5;124m'\u001b[39m)\n",
      "File \u001b[1;32mc:\\Users\\ajhaj\\anaconda3\\Lib\\site-packages\\selenium\\webdriver\\remote\\webdriver.py:888\u001b[0m, in \u001b[0;36mWebDriver.find_element\u001b[1;34m(self, by, value)\u001b[0m\n\u001b[0;32m    885\u001b[0m         \u001b[38;5;28;01mraise\u001b[39;00m NoSuchElementException(\u001b[38;5;124mf\u001b[39m\u001b[38;5;124m\"\u001b[39m\u001b[38;5;124mCannot locate relative element with: \u001b[39m\u001b[38;5;132;01m{\u001b[39;00mby\u001b[38;5;241m.\u001b[39mroot\u001b[38;5;132;01m}\u001b[39;00m\u001b[38;5;124m\"\u001b[39m)\n\u001b[0;32m    886\u001b[0m     \u001b[38;5;28;01mreturn\u001b[39;00m elements[\u001b[38;5;241m0\u001b[39m]\n\u001b[1;32m--> 888\u001b[0m \u001b[38;5;28;01mreturn\u001b[39;00m \u001b[38;5;28mself\u001b[39m\u001b[38;5;241m.\u001b[39mexecute(Command\u001b[38;5;241m.\u001b[39mFIND_ELEMENT, {\u001b[38;5;124m\"\u001b[39m\u001b[38;5;124musing\u001b[39m\u001b[38;5;124m\"\u001b[39m: by, \u001b[38;5;124m\"\u001b[39m\u001b[38;5;124mvalue\u001b[39m\u001b[38;5;124m\"\u001b[39m: value})[\u001b[38;5;124m\"\u001b[39m\u001b[38;5;124mvalue\u001b[39m\u001b[38;5;124m\"\u001b[39m]\n",
      "File \u001b[1;32mc:\\Users\\ajhaj\\anaconda3\\Lib\\site-packages\\selenium\\webdriver\\remote\\webdriver.py:429\u001b[0m, in \u001b[0;36mWebDriver.execute\u001b[1;34m(self, driver_command, params)\u001b[0m\n\u001b[0;32m    427\u001b[0m response \u001b[38;5;241m=\u001b[39m \u001b[38;5;28mself\u001b[39m\u001b[38;5;241m.\u001b[39mcommand_executor\u001b[38;5;241m.\u001b[39mexecute(driver_command, params)\n\u001b[0;32m    428\u001b[0m \u001b[38;5;28;01mif\u001b[39;00m response:\n\u001b[1;32m--> 429\u001b[0m     \u001b[38;5;28mself\u001b[39m\u001b[38;5;241m.\u001b[39merror_handler\u001b[38;5;241m.\u001b[39mcheck_response(response)\n\u001b[0;32m    430\u001b[0m     response[\u001b[38;5;124m\"\u001b[39m\u001b[38;5;124mvalue\u001b[39m\u001b[38;5;124m\"\u001b[39m] \u001b[38;5;241m=\u001b[39m \u001b[38;5;28mself\u001b[39m\u001b[38;5;241m.\u001b[39m_unwrap_value(response\u001b[38;5;241m.\u001b[39mget(\u001b[38;5;124m\"\u001b[39m\u001b[38;5;124mvalue\u001b[39m\u001b[38;5;124m\"\u001b[39m, \u001b[38;5;28;01mNone\u001b[39;00m))\n\u001b[0;32m    431\u001b[0m     \u001b[38;5;28;01mreturn\u001b[39;00m response\n",
      "File \u001b[1;32mc:\\Users\\ajhaj\\anaconda3\\Lib\\site-packages\\selenium\\webdriver\\remote\\errorhandler.py:232\u001b[0m, in \u001b[0;36mErrorHandler.check_response\u001b[1;34m(self, response)\u001b[0m\n\u001b[0;32m    230\u001b[0m         alert_text \u001b[38;5;241m=\u001b[39m value[\u001b[38;5;124m\"\u001b[39m\u001b[38;5;124malert\u001b[39m\u001b[38;5;124m\"\u001b[39m]\u001b[38;5;241m.\u001b[39mget(\u001b[38;5;124m\"\u001b[39m\u001b[38;5;124mtext\u001b[39m\u001b[38;5;124m\"\u001b[39m)\n\u001b[0;32m    231\u001b[0m     \u001b[38;5;28;01mraise\u001b[39;00m exception_class(message, screen, stacktrace, alert_text)  \u001b[38;5;66;03m# type: ignore[call-arg]  # mypy is not smart enough here\u001b[39;00m\n\u001b[1;32m--> 232\u001b[0m \u001b[38;5;28;01mraise\u001b[39;00m exception_class(message, screen, stacktrace)\n",
      "\u001b[1;31mNoSuchElementException\u001b[0m: Message: no such element: Unable to locate element: {\"method\":\"xpath\",\"selector\":\"//*[@id=\"headerSearchKeInput\"]\"}\n  (Session info: chrome=133.0.6943.60); For documentation on this error, please visit: https://www.selenium.dev/documentation/webdriver/troubleshooting/errors#no-such-element-exception\nStacktrace:\n\tGetHandleVerifier [0x00007FF676272EC5+28789]\n\t(No symbol) [0x00007FF6761DF870]\n\t(No symbol) [0x00007FF676078F9A]\n\t(No symbol) [0x00007FF6760CF236]\n\t(No symbol) [0x00007FF6760CF46C]\n\t(No symbol) [0x00007FF6761229F7]\n\t(No symbol) [0x00007FF6760F725F]\n\t(No symbol) [0x00007FF67611F6C3]\n\t(No symbol) [0x00007FF6760F6FF3]\n\t(No symbol) [0x00007FF6760BFF0E]\n\t(No symbol) [0x00007FF6760C1193]\n\tGetHandleVerifier [0x00007FF6765BD5FD+3479469]\n\tGetHandleVerifier [0x00007FF6765D71A3+3584851]\n\tGetHandleVerifier [0x00007FF6765CC44D+3540477]\n\tGetHandleVerifier [0x00007FF676338B6A+838938]\n\t(No symbol) [0x00007FF6761EA4EF]\n\t(No symbol) [0x00007FF6761E6954]\n\t(No symbol) [0x00007FF6761E6AF6]\n\t(No symbol) [0x00007FF6761D6499]\n\tBaseThreadInitThunk [0x00007FFD0147E8D7+23]\n\tRtlUserThreadStart [0x00007FFD0345FBCC+44]\n"
     ]
    }
   ],
   "source": [
    "driver = webdriver.Chrome(service=s)\n",
    "\n",
    "url = 'https://korean.visitkorea.or.kr/'\n",
    "driver.get(url)\n",
    "time.sleep(5)\n",
    "driver.maximize_window()\n",
    "\n",
    "#element = driver.find_element(By.XPATH,'//*[@id=\"modal2\"]/kc-icon')\n",
    "driver.find_element(By.XPATH,'//*[@id=\"placeHolder\"]/a').click( )\n",
    "\n",
    "element = driver.find_element(By.XPATH, '//*[@id=\"headerSearchKeInput\"]')\n",
    "driver.find_element(By.XPATH,'//*[@id=\"headerSearchKeInput\"]').click( )\n",
    "\n",
    "element.send_keys('제주도도')\n",
    "element.send_keys(\"\\n\")"
   ]
  },
  {
   "cell_type": "markdown",
   "metadata": {},
   "source": [
    "### 5번"
   ]
  },
  {
   "cell_type": "code",
   "execution_count": null,
   "metadata": {},
   "outputs": [],
   "source": [
    "#자동화 모듈을 사용할 때 진짜 많이 사용할거임.\n",
    "#메크로 처럼 왼쪽클릭해라 이런거 다 가능능\n",
    "#!pip install pyautogui\n",
    "import pyautogui\n",
    "driver = webdriver.Chrome(service=s)\n",
    "\n",
    "url = 'https://www.koreanair.com/'\n",
    "driver.get(url)\n",
    "time.sleep(5)\n",
    "driver.maximize_window()\n",
    "time.sleep(5)\n",
    "\n",
    "pyautogui.press('tab')\n",
    "time.sleep(1)\n",
    "pyautogui.press('tab')\n",
    "pyautogui.press('enter')\n",
    "time.sleep(1)\n",
    "#element = driver.find_element(By.XPATH, '//*[@id=\"headerSearchKeInput\"]')\n",
    "#driver.find_element(By.XPATH,'//*[@id=\"button-search\"]').click( )\n",
    "\n",
    "pyautogui.press('tab')\n",
    "pyautogui.press('tab')\n",
    "pyautogui.press('tab')\n",
    "pyautogui.press('tab')\n",
    "pyautogui.press('tab')\n",
    "pyautogui.press('tab')\n",
    "pyautogui.press('tab')\n",
    "pyautogui.press('tab')\n",
    "pyautogui.press('tab')\n",
    "pyautogui.press('tab')\n",
    "pyautogui.press('tab')\n",
    "pyautogui.press('tab')\n",
    "pyautogui.press('tab')\n",
    "pyautogui.press('enter')\n",
    "\n",
    "#import pyperclip\n",
    "#pyperclip.copy(\"제주도\")  # 클립보드에 복사\n",
    "#pyautogui.hotkey(\"ctrl\", \"v\")  # 붙여넣기\n",
    "\n",
    "pyautogui.write(' seoul', interval=0.2)\n",
    "pyautogui.press('enter')"
   ]
  },
  {
   "cell_type": "code",
   "execution_count": null,
   "metadata": {},
   "outputs": [],
   "source": [
    "driver = webdriver.Chrome(service=s)\n",
    "\n",
    "url = 'https://www.koreatech.ac.kr'\n",
    "driver.get(url)\n",
    "time.sleep(5)\n",
    "driver.maximize_window()\n",
    "\n",
    "driver.find_element(By.XPATH,'//*[@id=\"issue\"]/article[2]/div[3]/a[1]').click( )\n",
    "\n",
    "element = driver.find_element(By.ID, 'search2')\n",
    "driver.find_element(By.ID,'search2').click( )\n",
    "\n",
    "element.send_keys('장학금')\n",
    "element.send_keys(\"\\n\")"
   ]
  },
  {
   "cell_type": "code",
   "execution_count": null,
   "metadata": {},
   "outputs": [],
   "source": []
  }
 ],
 "metadata": {
  "kernelspec": {
   "display_name": "base",
   "language": "python",
   "name": "python3"
  },
  "language_info": {
   "codemirror_mode": {
    "name": "ipython",
    "version": 3
   },
   "file_extension": ".py",
   "mimetype": "text/x-python",
   "name": "python",
   "nbconvert_exporter": "python",
   "pygments_lexer": "ipython3",
   "version": "3.12.7"
  }
 },
 "nbformat": 4,
 "nbformat_minor": 2
}
